{
 "cells": [
  {
   "cell_type": "code",
   "execution_count": 1,
   "metadata": {},
   "outputs": [],
   "source": [
    "from sklearn.datasets import load_digits\n",
    "import numpy as np\n",
    "import matplotlib.pyplot as plt\n",
    "\n",
    "from nn import Sequential, Input, Dense, Tanh, Softmax, Linear, Sigmoid, ReLU"
   ]
  },
  {
   "cell_type": "code",
   "execution_count": 2,
   "metadata": {},
   "outputs": [
    {
     "name": "stdout",
     "output_type": "stream",
     "text": [
      "(1797, 64)\n"
     ]
    }
   ],
   "source": [
    "digits = load_digits()\n",
    "print(digits.data.shape)"
   ]
  },
  {
   "cell_type": "code",
   "execution_count": 3,
   "metadata": {},
   "outputs": [
    {
     "data": {
      "image/png": "[encoded data removed]",
      "text/plain": [
       "<Figure size 432x288 with 1 Axes>"
      ]
     },
     "metadata": {
      "needs_background": "light"
     },
     "output_type": "display_data"
    }
   ],
   "source": [
    "image = np.reshape(digits.data[23], (8, 8))\n",
    "fig = plt.figure\n",
    "plt.imshow(image, cmap='gray')\n",
    "plt.show()"
   ]
  },
  {
   "cell_type": "code",
   "execution_count": 4,
   "metadata": {},
   "outputs": [
    {
     "data": {
      "text/plain": [
       "((1797, 64, 1), (1797, 1))"
      ]
     },
     "execution_count": 4,
     "metadata": {},
     "output_type": "execute_result"
    }
   ],
   "source": [
    "X = np.reshape(digits.data, (digits.data.shape[0], digits.data.shape[1], 1))\n",
    "Y = np.reshape(digits.target, (digits.target.shape[0], 1))\n",
    "X.shape, Y.shape"
   ]
  },
  {
   "cell_type": "code",
   "execution_count": 11,
   "metadata": {},
   "outputs": [],
   "source": [
    "model = Sequential([\n",
    "    Input(X.shape[1]),\n",
    "    Dense(8),\n",
    "    ReLU(),\n",
    "    Dense(8),\n",
    "    ReLU(),\n",
    "    Dense(10),\n",
    "    ReLU(),\n",
    "    Softmax(),\n",
    "    ReLU(),\n",
    "])\n",
    "model.compile()"
   ]
  },
  {
   "cell_type": "code",
   "execution_count": 12,
   "metadata": {},
   "outputs": [
    {
     "name": "stdout",
     "output_type": "stream",
     "text": [
      "1/100, error=27.574242889005767\n",
      "2/100, error=27.574242889005784\n",
      "3/100, error=27.574242889005816\n",
      "4/100, error=27.574242889005824\n",
      "5/100, error=27.574242889005856\n",
      "6/100, error=27.574242889005877\n",
      "7/100, error=27.57424288900589\n",
      "8/100, error=27.574242889005912\n",
      "9/100, error=27.574242889005934\n",
      "10/100, error=27.57424288900596\n",
      "11/100, error=27.57424288900598\n",
      "12/100, error=27.574242889006\n",
      "13/100, error=27.574242889006015\n",
      "14/100, error=27.57424288900602\n",
      "15/100, error=27.57424288900604\n",
      "16/100, error=27.574242889006058\n",
      "17/100, error=27.57424288900607\n",
      "18/100, error=27.57424288900608\n",
      "19/100, error=27.574242889006097\n",
      "20/100, error=27.574242889006108\n",
      "21/100, error=27.57424288900613\n",
      "22/100, error=27.57424288900614\n",
      "23/100, error=27.574242889006154\n",
      "24/100, error=27.574242889006165\n",
      "25/100, error=27.574242889006193\n",
      "26/100, error=27.574242889006218\n",
      "27/100, error=27.574242889006232\n",
      "28/100, error=27.57424288900624\n",
      "29/100, error=27.574242889006243\n",
      "30/100, error=27.574242889006246\n",
      "31/100, error=27.57424288900627\n",
      "32/100, error=27.57424288900627\n",
      "33/100, error=27.574242889006314\n",
      "34/100, error=27.57424288900634\n",
      "35/100, error=27.57424288900636\n",
      "36/100, error=27.574242889006378\n",
      "37/100, error=27.574242889006396\n",
      "38/100, error=27.574242889006406\n",
      "39/100, error=27.574242889006435\n",
      "40/100, error=27.57424288900644\n",
      "41/100, error=27.57424288900646\n",
      "42/100, error=27.574242889006484\n",
      "43/100, error=27.574242889006488\n",
      "44/100, error=27.57424288900652\n",
      "45/100, error=27.574242889006545\n",
      "46/100, error=27.57424288900658\n",
      "47/100, error=27.574242889006616\n",
      "48/100, error=27.574242889006634\n",
      "49/100, error=27.574242889006634\n",
      "50/100, error=27.574242889006644\n",
      "51/100, error=27.574242889006634\n",
      "52/100, error=27.574242889006655\n",
      "53/100, error=27.574242889006662\n",
      "54/100, error=27.574242889006666\n",
      "55/100, error=27.574242889006694\n",
      "56/100, error=27.574242889006708\n",
      "57/100, error=27.574242889006708\n",
      "58/100, error=27.574242889006708\n",
      "59/100, error=27.574242889006708\n",
      "60/100, error=27.574242889006722\n",
      "61/100, error=27.57424288900674\n",
      "62/100, error=27.57424288900674\n",
      "63/100, error=27.574242889006754\n",
      "64/100, error=27.57424288900675\n",
      "65/100, error=27.574242889006776\n",
      "66/100, error=27.574242889006765\n",
      "67/100, error=27.57424288900677\n",
      "68/100, error=27.574242889006772\n",
      "69/100, error=27.57424288900677\n",
      "70/100, error=27.574242889006776\n",
      "71/100, error=27.574242889006793\n",
      "72/100, error=27.574242889006804\n",
      "73/100, error=27.574242889006808\n",
      "74/100, error=27.57424288900682\n",
      "75/100, error=27.574242889006804\n",
      "76/100, error=27.57424288900681\n",
      "77/100, error=27.574242889006808\n",
      "78/100, error=27.574242889006808\n",
      "79/100, error=27.57424288900681\n",
      "80/100, error=27.574242889006833\n",
      "81/100, error=27.574242889006854\n",
      "82/100, error=27.574242889006868\n",
      "83/100, error=27.574242889006893\n",
      "84/100, error=27.574242889006914\n",
      "85/100, error=27.574242889006918\n",
      "86/100, error=27.574242889006943\n",
      "87/100, error=27.574242889006968\n",
      "88/100, error=27.57424288900698\n",
      "89/100, error=27.57424288900698\n",
      "90/100, error=27.574242889006978\n",
      "91/100, error=27.574242889006978\n",
      "92/100, error=27.574242889007\n",
      "93/100, error=27.57424288900701\n",
      "94/100, error=27.574242889007024\n",
      "95/100, error=27.574242889007035\n",
      "96/100, error=27.574242889007056\n",
      "97/100, error=27.574242889007067\n",
      "98/100, error=27.574242889007067\n",
      "99/100, error=27.574242889007063\n",
      "100/100, error=27.57424288900706\n"
     ]
    }
   ],
   "source": [
    "model.fit(X, Y, epochs=100, learning_rate=1, verbose=True)\n"
   ]
  },
  {
   "cell_type": "markdown",
   "metadata": {},
   "source": []
  },
  {
   "cell_type": "code",
   "execution_count": 7,
   "metadata": {},
   "outputs": [
    {
     "data": {
      "text/plain": [
       "array([[[2.71883521e-209],\n",
       "        [1.00000000e+000],\n",
       "        [2.71883521e-209],\n",
       "        [1.00940611e-109],\n",
       "        [2.71883521e-209],\n",
       "        [2.71883521e-209],\n",
       "        [2.71883521e-209],\n",
       "        [2.71883521e-209],\n",
       "        [7.90259148e-052],\n",
       "        [2.71883521e-209]]])"
      ]
     },
     "execution_count": 7,
     "metadata": {},
     "output_type": "execute_result"
    }
   ],
   "source": [
    "model.predict(X[:1])"
   ]
  }
 ],
 "metadata": {
  "kernelspec": {
   "display_name": "Python 3.8.9 64-bit",
   "language": "python",
   "name": "python3"
  },
  "language_info": {
   "codemirror_mode": {
    "name": "ipython",
    "version": 3
   },
   "file_extension": ".py",
   "mimetype": "text/x-python",
   "name": "python",
   "nbconvert_exporter": "python",
   "pygments_lexer": "ipython3",
   "version": "3.8.9"
  },
  "orig_nbformat": 4,
  "vscode": {
   "interpreter": {
    "hash": "31f2aee4e71d21fbe5cf8b01ff0e069b9275f58929596ceb00d14d90e3e16cd6"
   }
  }
 },
 "nbformat": 4,
 "nbformat_minor": 2
}
